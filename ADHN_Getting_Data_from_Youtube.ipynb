{
  "nbformat": 4,
  "nbformat_minor": 0,
  "metadata": {
    "colab": {
      "provenance": [],
      "authorship_tag": "ABX9TyNdWEny4aciJ1584sv3dNcc",
      "include_colab_link": true
    },
    "kernelspec": {
      "name": "python3",
      "display_name": "Python 3"
    },
    "language_info": {
      "name": "python"
    }
  },
  "cells": [
    {
      "cell_type": "markdown",
      "metadata": {
        "id": "view-in-github",
        "colab_type": "text"
      },
      "source": [
        "<a href=\"https://colab.research.google.com/github/farshid101/Helper-Code/blob/main/ADHN_Getting_Data_from_Youtube.ipynb\" target=\"_parent\"><img src=\"https://colab.research.google.com/assets/colab-badge.svg\" alt=\"Open In Colab\"/></a>"
      ]
    },
    {
      "cell_type": "markdown",
      "source": [
        "# Getting Data from Youtube"
      ],
      "metadata": {
        "id": "-enUwxAARiYY"
      }
    },
    {
      "cell_type": "code",
      "execution_count": 1,
      "metadata": {
        "colab": {
          "base_uri": "https://localhost:8080/"
        },
        "id": "bUy5dE7dRXC2",
        "outputId": "858d8ccc-1c0c-43c4-f550-936b5efd8245"
      },
      "outputs": [
        {
          "output_type": "stream",
          "name": "stdout",
          "text": [
            "Ayvabe bolle to jibon diya dibo<br>subscribe r ki jinish <br><br>Speaking skill 🔥joss\n",
            "Apu onk dhonnobad apnake\n",
            "Vary vary tanks u\n",
            "আপু আপনার কাছ থেকে আমি কাজ শিখতে চাই\n",
            "আপু আমি আপনার চ্যোনেল প্রথমবার দেখেছি আপু আমি নতুন কাজ শিখছি ফিতা লাগানোর পরে মেশিন চালাতে পারছি না।\n",
            "আপু  সেলাই😢মেশিনে টেনশনে  লাগানো কিভাবে\n",
            "অনেক সুন্দর করে শিখিয়েছেন❤\n",
            "❤❤❤❤❤❤❤❤❤\n",
            "আমি শিখতে চাই আমি নতুন কি ভাবে শিখব সেলাই\n",
            "Thank you\n",
            "😊\n",
            "Thank you\n",
            "আমিও শিকতে চাই\n",
            "Hey apu jokhon kapor selai kori selaier prothom ongser kichu jayga faka theke jay oita kivabe thik korbo\n",
            "ধন্যবাদ বোন\n",
            "আমি একদম, নতুন আমি ফিতার,মাফ,থেকে, মেশিন চালানো ওসিলানো,শিখতে,চাই,পিলিজ, আপু শিখাবেনতো?\n",
            "❤❤\n",
            "আসসামু আলাইকুম ওয়া রহমাতুল্লাহি ওয়া বারা কাতুহূ।আপু আমি মেশিন কিনবো ইনশাআল্লাহ আমার জন্য দোয়া করবেন।আর আপনি অনেক অনেক ধন্যবাদ ❤❤❤❤\n",
            "❤❤❤❤❤\n",
            "অনেক ধন্যবাদ আপু 😊\n",
            "🇧🇩\n",
            "আপু সেলাই করতে গেলে সুতা কেটে যায়\n",
            "আমি ও সেলাই এর কাজ শিখতে চাই\n",
            "আপু সেলাইতো উঠেনা😭😭আপনাকে তো সম্পূর্ণই ফলো করলাম 😂😂\n",
            "আপনাকে অনেক ধন্যবাদ আমি পারছি\n",
            "আসসালামু আলাইকুম আপু,,  আমার মেশিনের সুতা ছিড়ে যাই কেন\n",
            "Nich api chaliye jao\n",
            "আপু আমি নতুন সেলাই মেশিন  নিলাম,,  এখন সেলাই করতে লাগলে ববিনে সুতা শুরু  জর লাগে কি করবো একটু যদি বলতেন\n",
            "আমি শুরু করলাম সেলাই করা\n",
            "ami pari tbuo vdeta dekhlam sundor vabe bujhaisen\n",
            "Apu Ami silai kaj sikte cai ...age kokhono kori nai 💞\n",
            "তোর নেকামি দেখেই তো মেজাজ খারাপ হইয়া গেছে\n",
            "Kilo mone ache tui je amar kach theke sikhli humm ❤❤\n",
            "ধন্যবাদ  আপু খুব সুন্দর কাজ আমি কিছু টা পারি আলহাদুলিল্লাহ  এখন  আরো পূরো পারবো  দোয়া করবেন আপু🙂\n",
            "Very nice\n",
            "Its not enough sister😢\n",
            "আপনার মোবাইল নম্বর দিন\n",
            "আপু মুসলিম ধর্ম হলে অবশ্যই মাথায় কাপড় দিলে ভালো হতো\n",
            "আপু ছেকেনাল মেসিন আছে\n",
            "আমি দি পিচন দিয়া চাপ দিলে মেসিং গুরে না\n",
            "ধন্যবাদ আপনাকে একরকম ভিডিও দেওয়ার জন্য,আশা করি আরো ভিডিও পাবো ,\n",
            "মেশিনে সুই লাগানো টা একটু দেখালে খুব ভালো হতো প্লিজ\n",
            "Ar take valo jani\n",
            "আপু কিভাবে সেলাই বসাতে হয়?মানে সেলাই জাতে খুলে না জায়।\n",
            "ধন্যবাদ আপু\n",
            "আমাকে শিখিয়ে দেন আপু\n",
            "আপু সেলাই মেশিন কীভাবে পিড করতে হয় এই ভিডিওটি দেখাবেন। প্লিজ জানাবেন\n",
            "Appi you are so beautiful best of luck💖💖😍😍\n",
            "Appu Ami akta jinis bojte parlam na je apni nise je sota ta disen mane soicer nise je sota bandil ta dicen seta ki kaj korbe oi ta\n",
            "আপনি খুব ভালো করে বুঝাতে  পারেন\n",
            "ভিডিও ৬ মিনিটের শিখতে বলে ২ মিনিটে\n",
            "Onek thanks\n",
            "আপনাকে অনেক ধন্যবাদ <br>এত সুন্দর করে বুঝিয়ে বলার ও দেখানোর জন্য.....?\n",
            "Thanks\n",
            "Ami sob kaj shikte chai 😑\n",
            "Thanks a lot apu\n",
            "Didi ami paper korty chai plz blo\n",
            "Darun Video Apu\n",
            "Accha apu pettic korar somoy ki sui khule rakbo naki\n",
            "আপু সুতা না গাথলে মেশিন চলে কিন্তু সুতা গাথলে টাইট হয় খুব সিলাই হয়না কি করব\n",
            "আপু আমি তো পারি না\n",
            "আপু ববিনের সুতা উপরে উঠে কীভাবে\n",
            "সুতা ছুটে জায় সেলাই করার সময় কেনো\n",
            "আপনার দারা যখন কিছু হবেনা তো আপনি এত কিছু পারেন খাইভাবে\n",
            "Oshadaron ❤\n",
            "ধন্যবাদ আপু  আমি আপনাকে দেখে মেশিন চালানো শিখেছি\n",
            "Masallah bon anok sondor kore bojecen\n",
            "অনেক ধন্যবাদ আপু এই ভিডিও দেওয়ার জন্য 🤗\n",
            "আপনি খুব সুন্দরী\n",
            "Apu afnar nambar ta den.\n",
            "Didi amar suto vitora duka atka jas6a\n",
            "আমি নতুন শিখতে চাই\n",
            "এরকম ভালো ভাবে ভিডিও করে সেলোয়ার-কামিজ দিবেন ভিডিও\n",
            "আমি খুব ভালো 😳😡😳\n",
            "সুচ লাগানো টা একটু শিখান\n",
            "amr to hocche na ,selai jay na\n",
            "আপু। মেসিনের নাম কি\n",
            "nice\n",
            "আমি টেইলর হব, মেয়েদের কাপড় বানাব,তাই আমাকে একটু বলে দিলে উপকৃত হতাম।\n",
            "দিদি, আমি তুমার সব ভিডিও দেখেছি ( tailor&#39;s)।  আমাকে কি আর কোনো কোর্স করতে হবে? আমার হাতেখড়ি  কিন্তু এই ভিডিও গুলোই।\n",
            "Onk tnx apu ami niyo siktaci apnr vide ta daka onk opkr holo\n",
            "Amr mesin to ghore na api\n",
            "আপনার কতা গুলো খুব সুন্দর\n",
            "বেশ সুন্দর\n",
            "দিদি ভিডিও টি অনেক ভালো লেগেছে <br>আপনাকে অনেক অনেক ধন্যবাদ\n",
            "Apu tomer video aj 1st dakheci khob valo laglo<br>Thank you apo reply plz🌷\n",
            "Very very nice ,,,,really excellent apu\n",
            "Tnx apu\n",
            "আপু উল্টা সেলাই টা একটু দেখাও না।\n",
            "Tnx\n",
            "ধন্যবাদ\n",
            "আপু সিঙ্গার মেসিনের ভুবিন কি আলাদা হয় নাকি\n",
            "Thank you apnake. ❤️\n",
            "Ami silai sikte cai apu amar naam nazima apnar nomborta den\n",
            "Hi\n",
            "অসাধারণ\n",
            "আপু আপনাকে অনেক ধন্যবাদ এত সুন্দর ভাবে দেখানোর জন্য☺️☺️☺️☺️\n",
            "আপো আমাকে সিকিয়ে দেউ\n",
            "practice iz makes man a perfect\n",
            "আমি ছোট ইউটুবার আমার জন কি দোওয়া করা যায় না খুব সুন্দর আমি আপনাকে ফলো করে আমার দোকানে কাজ করি আপনার দোয়ায় আমার ২৮২জান সদস্য হয়েছে আপনি আমার ইউটিউব চেলেনটির জন্যদোয়া করবেন ইনশোআল্লাহ নাইচ,,,,,\n"
          ]
        }
      ],
      "source": [
        "\n",
        "import googleapiclient.discovery\n",
        "import googleapiclient.errors\n",
        "\n",
        "api_service_name = \"youtube\"\n",
        "api_version = \"v3\"\n",
        "DEVELOPER_KEY = \"\"\n",
        "\n",
        "youtube = googleapiclient.discovery.build(\n",
        "    api_service_name, api_version, developerKey=DEVELOPER_KEY)\n",
        "\n",
        "request = youtube.commentThreads().list(\n",
        "    part=\"snippet\",\n",
        "    videoId=\"M9cOpCQeM0k\",\n",
        "    maxResults=100\n",
        ")\n",
        "response = request.execute()\n",
        "\n",
        "for item in response['items']:\n",
        "    print(item['snippet']['topLevelComment']['snippet']['textDisplay'])"
      ]
    },
    {
      "cell_type": "markdown",
      "source": [
        "# Making a function"
      ],
      "metadata": {
        "id": "l4617ntcRstZ"
      }
    },
    {
      "cell_type": "code",
      "source": [
        "\n",
        "import googleapiclient.discovery\n",
        "import googleapiclient.errors\n",
        "\n",
        "def get_youtube_comments(video_id, developer_key):\n",
        "    # Build the YouTube API service\n",
        "    youtube = googleapiclient.discovery.build(\"youtube\", \"v3\", developerKey=developer_key)\n",
        "\n",
        "    # Make a request to get the comments for the specified video\n",
        "    request = youtube.commentThreads().list(\n",
        "        part=\"snippet\",\n",
        "        videoId=video_id,\n",
        "        maxResults=500\n",
        "    )\n",
        "    response = request.execute()\n",
        "\n",
        "    # Extract comments from the response\n",
        "    comments = []\n",
        "    for item in response.get('items', []):\n",
        "        comment_text = item['snippet']['topLevelComment']['snippet']['textDisplay']\n",
        "        comments.append(comment_text)\n",
        "\n",
        "    return comments\n",
        "\n",
        "def save_comments_to_csv(video_id, developer_key):\n",
        "    # Get comments for the specified video\n",
        "    comments = get_youtube_comments(video_id, developer_key)\n",
        "\n",
        "    # Create a CSV file and write comments to it\n",
        "    #csv_file_name = f\"{video_id}_comments.csv\"\n",
        "    csv_file_name = \"padma_bridge_1.csv\"\n",
        "    with open(csv_file_name, 'w', newline='', encoding='utf-8') as csv_file:\n",
        "        csv_writer = csv.writer(csv_file)\n",
        "        csv_writer.writerow(['Comment'])\n",
        "\n",
        "        for comment in comments:\n",
        "            csv_writer.writerow([comment])\n",
        "\n",
        "    print(f\"Comments have been saved to {csv_file_name}\")\n",
        "\n",
        "# Example usage:\n",
        "video_id = \"1BN1hroJMQ\"\n",
        "DEVELOPER_KEY = \"\"\n",
        "save_comments_to_csv(video_id, DEVELOPER_KEY)\n"
      ],
      "metadata": {
        "id": "Jawh5eXBRlft"
      },
      "execution_count": null,
      "outputs": []
    }
  ]
}